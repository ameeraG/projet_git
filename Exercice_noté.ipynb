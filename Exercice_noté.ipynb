{
 "cells": [
  {
   "cell_type": "code",
   "execution_count": 4,
   "metadata": {},
   "outputs": [
    {
     "name": "stdout",
     "output_type": "stream",
     "text": [
      "FR_2002.12.03_net.xml\n",
      "FR_2002.12.03_net.txt\n",
      "{'who': '#DEBRE'} \n",
      " L'ordre du jour appelle le débat sur l'avenir de l'Europe. Messieurs les huissiers, veuillez faire entrer M. le Président de la Convention sur l'avenir de l'Europe.  Je suis heureux de souhaiter, en votre nom, la bienvenue à M. Valéry Giscard d'Estaing. Avant de lui donner la parole, je tiens à souligner l'innovation que constitue la séance exceptionnelle que nous tenons cet après-midi. J'ai souhaité qu'un véritable dialogue s'engage sur l'avenir de l'Europe entre l'Assemblée nationale et M. le président de la Convention. Je remercie le Bureau de l'Assemblée nationale et la Conférence des présidents d'avoir compris et accepté ma démarche. Puisse cette initiative contribuer à l'ouverture, dans l'opinion publique, d'un débat qui soit à la hauteur des enjeux. Monsieur le président, vous avez la parole.\n"
     ]
    },
    {
     "ename": "AttributeError",
     "evalue": "'str' object has no attribute 'write'",
     "output_type": "error",
     "traceback": [
      "\u001b[1;31m---------------------------------------------------------------------------\u001b[0m",
      "\u001b[1;31mAttributeError\u001b[0m                            Traceback (most recent call last)",
      "\u001b[1;32m<ipython-input-4-a413444b5d95>\u001b[0m in \u001b[0;36m<module>\u001b[1;34m\u001b[0m\n\u001b[0;32m     30\u001b[0m                 \u001b[0mdep\u001b[0m\u001b[1;33m=\u001b[0m\u001b[0mtoken\u001b[0m\u001b[1;33m.\u001b[0m\u001b[0mdep_\u001b[0m\u001b[1;33m\u001b[0m\u001b[1;33m\u001b[0m\u001b[0m\n\u001b[0;32m     31\u001b[0m                 \u001b[1;31m#print(token.text,\"\\t\", token.pos_,\"\\t\", token.dep_)\u001b[0m\u001b[1;33m\u001b[0m\u001b[1;33m\u001b[0m\u001b[1;33m\u001b[0m\u001b[0m\n\u001b[1;32m---> 32\u001b[1;33m                 \u001b[0mfichier_out\u001b[0m\u001b[1;33m.\u001b[0m\u001b[0mwrite\u001b[0m\u001b[1;33m(\u001b[0m\u001b[0mtext\u001b[0m\u001b[1;33m+\u001b[0m\u001b[1;34m\",\"\u001b[0m \u001b[1;33m+\u001b[0m\u001b[0mpos\u001b[0m\u001b[1;33m+\u001b[0m\u001b[1;34m\",\"\u001b[0m\u001b[1;33m+\u001b[0m \u001b[0mdep\u001b[0m \u001b[1;33m+\u001b[0m \u001b[1;34m\"\\n\"\u001b[0m\u001b[1;33m)\u001b[0m\u001b[1;33m\u001b[0m\u001b[1;33m\u001b[0m\u001b[0m\n\u001b[0m\u001b[0;32m     33\u001b[0m \u001b[1;33m\u001b[0m\u001b[0m\n\u001b[0;32m     34\u001b[0m \u001b[1;33m\u001b[0m\u001b[0m\n",
      "\u001b[1;31mAttributeError\u001b[0m: 'str' object has no attribute 'write'"
     ]
    }
   ],
   "source": [
    "from lxml import etree\n",
    "import re\n",
    "import codecs\n",
    "import os\n",
    "import spacy\n",
    "from spacy import displacy\n",
    "from spacy.tokens import Token\n",
    "nlp = spacy.load(\"fr_core_news_sm\")\n",
    "\n",
    "\n",
    "\n",
    "chemin_rep=\"fr-parl/\"\n",
    "\n",
    "\n",
    "for fichier_in in os.listdir(chemin_rep): \n",
    "    if fichier_in.endswith(\".xml\"):\n",
    "        print(fichier_in)\n",
    "        f = open(chemin_rep+fichier_in, \"r\", encoding=\"utf-8\") \n",
    "        fichier_out=re.sub(\"\\.xml\",\".txt\", fichier_in)\n",
    "        print(fichier_out)\n",
    "        tree=etree.parse(chemin_rep+fichier_in)\n",
    "        f.close()\n",
    "\n",
    "        for u in tree.xpath(\"text/body/u\"):\n",
    "            u_1=nlp(u.text)\n",
    "            print(u.attrib,\"\\n\", u_1.text)\n",
    "            for token in u_1:\n",
    "                text=token.text\n",
    "                pos=token.pos_\n",
    "                dep=token.dep_\n",
    "                #print(token.text,\"\\t\", token.pos_,\"\\t\", token.dep_)\n",
    "                fichier_out.write(text+\",\" +pos+\",\"+ dep + \"\\n\")    \n",
    "\n",
    "            \n"
   ]
  },
  {
   "cell_type": "code",
   "execution_count": null,
   "metadata": {},
   "outputs": [],
   "source": []
  }
 ],
 "metadata": {
  "kernelspec": {
   "display_name": "Python 3",
   "language": "python",
   "name": "python3"
  },
  "language_info": {
   "codemirror_mode": {
    "name": "ipython",
    "version": 3
   },
   "file_extension": ".py",
   "mimetype": "text/x-python",
   "name": "python",
   "nbconvert_exporter": "python",
   "pygments_lexer": "ipython3",
   "version": "3.7.1"
  }
 },
 "nbformat": 4,
 "nbformat_minor": 2
}
